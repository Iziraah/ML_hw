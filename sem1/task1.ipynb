{
 "cells": [
  {
   "cell_type": "code",
   "execution_count": 1,
   "metadata": {},
   "outputs": [],
   "source": [
    "from sklearn import datasets\n",
    "dataset = datasets.load_breast_cancer()\n",
    "import numpy as np"
   ]
  },
  {
   "cell_type": "code",
   "execution_count": 2,
   "metadata": {},
   "outputs": [],
   "source": [
    "actual_values = np.array([100, 150, 200, 250])\n",
    "predicted_values = np.array([90, 140, 180, 270])"
   ]
  },
  {
   "cell_type": "code",
   "execution_count": 3,
   "metadata": {},
   "outputs": [
    {
     "name": "stdout",
     "output_type": "stream",
     "text": [
      "MAE:  15.0\n"
     ]
    }
   ],
   "source": [
    "mae = np.mean(np.abs(actual_values - predicted_values))\n",
    "print(\"MAE: \", mae)"
   ]
  },
  {
   "cell_type": "code",
   "execution_count": 5,
   "metadata": {},
   "outputs": [
    {
     "name": "stdout",
     "output_type": "stream",
     "text": [
      "MSE:  250.0\n"
     ]
    }
   ],
   "source": [
    "mse = np.mean(np.abs(actual_values - predicted_values) ** 2)\n",
    "print(\"MSE: \", mse)"
   ]
  },
  {
   "cell_type": "markdown",
   "metadata": {},
   "source": [
    "\n",
    "Анализ результатов:\n",
    "\n",
    "MSE (среднеквадратичная ошибка) отражает среднее значение квадратов ошибок. Чем ниже этот показатель, тем точнее модель. В нашем случае MSE = 250, что говорит о среднем квадратичном отклонении ошибок в 250. MAE (средняя абсолютная ошибка) измеряет среднее значение абсолютных ошибок. Чем ниже MAE, тем лучше точность модели. В данном случае MAE = 15, что указывает на среднюю абсолютную ошибку в 15.\n",
    "\n",
    "Вывод:\n",
    "\n",
    "На основе полученных данных видно, что MAE = 15 значительно меньше, чем MSE = 250. Это указывает на то, что MAE более точно описывает качество предсказаний для данного набора данных. Поскольку MAE более чувствителен к выбросам, в этом случае он может быть более полезным показателем.\n",
    "Важно помнить, что выбор функции потерь зависит от специфики задачи и характеристик данных."
   ]
  }
 ],
 "metadata": {
  "kernelspec": {
   "display_name": "Python 3",
   "language": "python",
   "name": "python3"
  },
  "language_info": {
   "codemirror_mode": {
    "name": "ipython",
    "version": 3
   },
   "file_extension": ".py",
   "mimetype": "text/x-python",
   "name": "python",
   "nbconvert_exporter": "python",
   "pygments_lexer": "ipython3",
   "version": "3.10.11"
  }
 },
 "nbformat": 4,
 "nbformat_minor": 2
}
